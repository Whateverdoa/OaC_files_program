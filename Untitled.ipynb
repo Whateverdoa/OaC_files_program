{
 "cells": [
  {
   "cell_type": "code",
   "execution_count": null,
   "metadata": {},
   "outputs": [],
   "source": [
    "import os\n",
    "import pandas as pd\n",
    "from pathlib import Path\n",
    "from adding_pdf_column import concat"
   ]
  },
  {
   "cell_type": "code",
   "execution_count": null,
   "metadata": {},
   "outputs": [],
   "source": [
    "name_list = f\"C:/Users/Dhr. Ten Hoonte/PycharmProjects/OaC_files_program/src/vdp_namen.csv\"\n",
    "test_list = os.listdir(\"C:/Users/Dhr. Ten Hoonte/PycharmProjects/OaC_files_program/Seal&Trace batches/\")"
   ]
  },
  {
   "cell_type": "code",
   "execution_count": null,
   "metadata": {},
   "outputs": [],
   "source": [
    "print(type(test_list))\n",
    "\n",
    "a = test_list[0:3]  \n",
    "b = test_list[3:6]\n",
    "c = test_list[6:9]\n",
    "d = test_list[9:]\n",
    "e = test_list[3:6]\n",
    "f = test_list[3:6]\n",
    "g = test_list[3:6]\n",
    "h = test_list[3:6]\n",
    "i = test_list[3:6]\n",
    "j = test_list[3:6]\n",
    "\n",
    "\n",
    "print(a)\n",
    "print(b)\n",
    "\n",
    "\n",
    "    "
   ]
  },
  {
   "cell_type": "markdown",
   "metadata": {},
   "source": [
    "# making a dict and making 11 lists"
   ]
  },
  {
   "cell_type": "code",
   "execution_count": null,
   "metadata": {},
   "outputs": [],
   "source": [
    "running = [a,b]\n",
    "for _ in running:\n",
    "    str_df_1 = f\"C:/Users/Dhr. Ten Hoonte/PycharmProjects/OaC_files_program/Seal&Trace batches/{_[0]}\"\n",
    "    str_df_2 = f\"C:/Users/Dhr. Ten Hoonte/PycharmProjects/OaC_files_program/Seal&Trace batches/{_[1]}\"\n",
    "    str_df_3 = f\"C:/Users/Dhr. Ten Hoonte/PycharmProjects/OaC_files_program/Seal&Trace batches/{_[2]}\"\n",
    "    str_df_4 = f\"C:/Users/Dhr. Ten Hoonte/PycharmProjects/OaC_files_program/src/pdf.csv\"\n",
    "    \n",
    "    print(str_df_1)\n",
    "    print(str_df_2)\n",
    "    print(str_df_3)\n",
    "    print(str_df_4)"
   ]
  },
  {
   "cell_type": "code",
   "execution_count": 78,
   "metadata": {},
   "outputs": [],
   "source": [
    "lijst_ = [\"AMS-0007.csv\", \"AMS-0008.csv\", \"MAL-0055.csv\"]\n",
    "\n"
   ]
  },
  {
   "cell_type": "code",
   "execution_count": 80,
   "metadata": {},
   "outputs": [
    {
     "name": "stdout",
     "output_type": "stream",
     "text": [
      "30\n",
      "['AMS-0007.csv', 'AMS-0008.csv', 'MAL-0055.csv']\n",
      "['MAL-0056.csv', 'MAL-0057.csv', 'MAL-0058.csv']\n",
      "['MAL-0059.csv', 'MAL-0060.csv', 'MAL-0061.csv']\n",
      "['MAL-0062.csv', 'MAL-0063.csv', 'MAL-0065.csv']\n",
      "['MAL-0066.csv', 'MAL-0067.csv', 'MAL-0068.csv']\n",
      "['MAL-0069.csv', 'MAL-0070.csv', 'MAL-0071.csv']\n",
      "['MAL-0072.csv', 'MAL-0073.csv', 'MAL-0075.csv']\n",
      "['MAL-0076.csv', 'MAL-0077.csv', 'MAL-0078.csv']\n",
      "['MAL-0079.csv', 'MAL-0080.csv', 'MAL-0081.csv']\n",
      "['MAL-0082.csv', 'MAL-0083.csv', 'MAL-0084.csv']\n",
      "['SAG-0033.csv', 'SAG-0034.csv']\n"
     ]
    }
   ],
   "source": [
    "if len(test_list) % 3 == 2:\n",
    "    mod_lijst = len(test_list) - len(test_list) % 3\n",
    "    print(mod_lijst)\n",
    "    for eerste_tien in range(0,mod_lijst,3):\n",
    "        \"\"\"build first 10 liits\"\"\"\n",
    "#         \n",
    "        naam = test_list[eerste_tien: eerste_tien +3]\n",
    "        print(naam)   \n",
    "        \n",
    "    naam = test_list[30:32]\n",
    "    print(naam)\n",
    "else:\n",
    "    print((len(test_list) % 3))    "
   ]
  },
  {
   "cell_type": "code",
   "execution_count": null,
   "metadata": {},
   "outputs": [],
   "source": [
    "str_df_1"
   ]
  },
  {
   "cell_type": "code",
   "execution_count": 81,
   "metadata": {},
   "outputs": [],
   "source": [
    "lijst_ = [\"AMS-0007.csv\", \"AMS-0008.csv\", \"MAL-0055.csv\"]\n",
    "\n",
    "str_df_1 = f\"C:/Users/Dhr. Ten Hoonte/PycharmProjects/OaC_files_program/Seal&Trace batches/{lijst_[0]}\"\n",
    "str_df_2 = f\"C:/Users/Dhr. Ten Hoonte/PycharmProjects/OaC_files_program/Seal&Trace batches/{lijst_[1]}\"\n",
    "str_df_3 = f\"C:/Users/Dhr. Ten Hoonte/PycharmProjects/OaC_files_program/Seal&Trace batches/{lijst_[2]}\"\n",
    "str_df_4 = f\"C:/Users/Dhr. Ten Hoonte/PycharmProjects/OaC_files_program/src/pdf.csv\"\n",
    "\n",
    "\n",
    "def concating(lijst_, naam_lijst):\n",
    "    \"\"\"\" the first variable here is a list of three, iterating # todo build a list of threes out of the 32\n",
    "    the second is iterating through the name list\"\"\"\n",
    "\n",
    "    # lijst_ = [\"AMS-0007.csv\",\"AMS-0008.csv\",\"MAL-0055.csv\"]\n",
    "    # lijst_ = {'f': 'HIA-0113.csv', 'g': 'OMN-0118.csv', 'h': 'OMN-0119.csv'}\n",
    "    data_in = Path(\"C:/Users/Dhr. Ten Hoonte/PycharmProjects/OaC_files_program/Seal&Trace batches/\")\n",
    "    df1 = pd.read_csv(str_df_1)\n",
    "    df2 = pd.read_csv(str_df_2)\n",
    "    df3 = pd.read_csv(str_df_3)\n",
    "    df4 = pd.read_csv(str_df_4)\n",
    "\n",
    "    df = pd.concat([df1, df2, df3, df4], axis=1)\n",
    "    # writing to csv\n",
    "    df.to_csv(\"vdp_1.csv\")\n",
    "\n",
    "    with open(\"vdp_1.csv\", \"r\") as f:\n",
    "        read_line = f.readlines()\n",
    "\n",
    "    with open(naam_lijst, \"w\", encoding=\"utf-8\") as target:\n",
    "        target.writelines(read_line[1:2])  # eerste regel\n",
    "        target.writelines(\"*,*,*,*,*,*,*,*,*,*,*,*,*,*,*,*,stans.pdf\\n\" * 59)  # inloop\n",
    "        a = 1\n",
    "        b = 1001\n",
    "        for _ in range(8):\n",
    "            target.writelines(\"*,*,*,*,*,*,*,*,*,*,*,*,*,*,*,*,stans.pdf\\n\" * 6)\n",
    "            target.writelines(read_line[a:b])\n",
    "\n",
    "            a += 1000\n",
    "            b += 1000\n",
    "\n",
    "        target.writelines(\"*,*,*,*,*,*,*,*,*,*,*,*,*,*,*,*,stans.pdf\\n\" * 59)  # uitloop\n",
    "        target.writelines(read_line[8000:8001])  # laatste regel\n",
    "\n",
    "    print(\"done\")\n",
    "    \n",
    "    "
   ]
  },
  {
   "cell_type": "code",
   "execution_count": null,
   "metadata": {},
   "outputs": [],
   "source": []
  },
  {
   "cell_type": "code",
   "execution_count": null,
   "metadata": {},
   "outputs": [],
   "source": []
  }
 ],
 "metadata": {
  "kernelspec": {
   "display_name": "Python 3",
   "language": "python",
   "name": "python3"
  },
  "language_info": {
   "codemirror_mode": {
    "name": "ipython",
    "version": 3
   },
   "file_extension": ".py",
   "mimetype": "text/x-python",
   "name": "python",
   "nbconvert_exporter": "python",
   "pygments_lexer": "ipython3",
   "version": "3.7.0"
  }
 },
 "nbformat": 4,
 "nbformat_minor": 2
}
