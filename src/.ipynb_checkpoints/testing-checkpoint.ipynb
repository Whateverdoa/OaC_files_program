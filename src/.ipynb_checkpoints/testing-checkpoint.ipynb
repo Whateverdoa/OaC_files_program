{
 "cells": [
  {
   "cell_type": "code",
   "execution_count": 82,
   "metadata": {},
   "outputs": [
    {
     "ename": "ModuleNotFoundError",
     "evalue": "No module named 'adding_pdf_column'",
     "output_type": "error",
     "traceback": [
      "\u001b[1;31m---------------------------------------------------------------------------\u001b[0m",
      "\u001b[1;31mModuleNotFoundError\u001b[0m                       Traceback (most recent call last)",
      "\u001b[1;32m<ipython-input-82-d150d7265826>\u001b[0m in \u001b[0;36m<module>\u001b[1;34m()\u001b[0m\n\u001b[0;32m      2\u001b[0m \u001b[1;32mimport\u001b[0m \u001b[0mpandas\u001b[0m \u001b[1;32mas\u001b[0m \u001b[0mpd\u001b[0m\u001b[1;33m\u001b[0m\u001b[0m\n\u001b[0;32m      3\u001b[0m \u001b[1;32mfrom\u001b[0m \u001b[0mpathlib\u001b[0m \u001b[1;32mimport\u001b[0m \u001b[0mPath\u001b[0m\u001b[1;33m\u001b[0m\u001b[0m\n\u001b[1;32m----> 4\u001b[1;33m \u001b[1;32mimport\u001b[0m \u001b[0madding_pdf_column\u001b[0m\u001b[1;33m\u001b[0m\u001b[0m\n\u001b[0m",
      "\u001b[1;31mModuleNotFoundError\u001b[0m: No module named 'adding_pdf_column'"
     ]
    }
   ],
   "source": [
    "import os\n",
    "import pandas as pd\n",
    "from pathlib import Path\n",
    "import adding_pdf_column"
   ]
  },
  {
   "cell_type": "code",
   "execution_count": null,
   "metadata": {},
   "outputs": [],
   "source": [
    "name_list = f\"C:/Users/Dhr. Ten Hoonte/PycharmProjects/OaC_files_program/src/vdp_namen.csv\"\n",
    "test_list = os.listdir(\"C:/Users/Dhr. Ten Hoonte/PycharmProjects/OaC_files_program/Seal&Trace batches/\")"
   ]
  },
  {
   "cell_type": "code",
   "execution_count": null,
   "metadata": {},
   "outputs": [],
   "source": [
    "print(type(test_list))\n",
    "\n",
    "a = test_list[0:3]  \n",
    "b = test_list[3:6]\n",
    "c = test_list[6:9]\n",
    "d = test_list[9:]\n",
    "e = test_list[3:6]\n",
    "f = test_list[3:6]\n",
    "g = test_list[3:6]\n",
    "h = test_list[3:6]\n",
    "i = test_list[3:6]\n",
    "j = test_list[3:6]\n",
    "\n",
    "\n",
    "print(a)\n",
    "print(b)\n",
    "\n",
    "\n",
    "    "
   ]
  },
  {
   "cell_type": "markdown",
   "metadata": {},
   "source": [
    "# making a dict and making 11 lists"
   ]
  },
  {
   "cell_type": "code",
   "execution_count": null,
   "metadata": {},
   "outputs": [],
   "source": [
    "running = [a,b]\n",
    "for _ in running:\n",
    "    str_df_1 = f\"C:/Users/Dhr. Ten Hoonte/PycharmProjects/OaC_files_program/Seal&Trace batches/{_[0]}\"\n",
    "    str_df_2 = f\"C:/Users/Dhr. Ten Hoonte/PycharmProjects/OaC_files_program/Seal&Trace batches/{_[1]}\"\n",
    "    str_df_3 = f\"C:/Users/Dhr. Ten Hoonte/PycharmProjects/OaC_files_program/Seal&Trace batches/{_[2]}\"\n",
    "    str_df_4 = f\"C:/Users/Dhr. Ten Hoonte/PycharmProjects/OaC_files_program/src/pdf.csv\"\n",
    "    \n",
    "    print(str_df_1)\n",
    "    print(str_df_2)\n",
    "    print(str_df_3)\n",
    "    print(str_df_4)"
   ]
  },
  {
   "cell_type": "code",
   "execution_count": 78,
   "metadata": {},
   "outputs": [],
   "source": [
    "lijst_ = [\"AMS-0007.csv\", \"AMS-0008.csv\", \"MAL-0055.csv\"]\n",
    "\n"
   ]
  },
  {
   "cell_type": "code",
   "execution_count": 108,
   "metadata": {},
   "outputs": [
    {
     "name": "stdout",
     "output_type": "stream",
     "text": [
      "30\n",
      "['AMS-0007.csv', 'AMS-0008.csv', 'MAL-0055.csv']\n",
      "['MAL-0056.csv', 'MAL-0057.csv', 'MAL-0058.csv']\n",
      "['MAL-0059.csv', 'MAL-0060.csv', 'MAL-0061.csv']\n",
      "['MAL-0062.csv', 'MAL-0063.csv', 'MAL-0065.csv']\n",
      "['MAL-0066.csv', 'MAL-0067.csv', 'MAL-0068.csv']\n",
      "['MAL-0069.csv', 'MAL-0070.csv', 'MAL-0071.csv']\n",
      "['MAL-0072.csv', 'MAL-0073.csv', 'MAL-0075.csv']\n",
      "['MAL-0076.csv', 'MAL-0077.csv', 'MAL-0078.csv']\n",
      "['MAL-0079.csv', 'MAL-0080.csv', 'MAL-0081.csv']\n",
      "['MAL-0082.csv', 'MAL-0083.csv', 'MAL-0084.csv']\n",
      "['SAG-0033.csv', 'SAG-0034.csv']\n"
     ]
    }
   ],
   "source": [
    "if len(test_list) % 3 == 2:\n",
    "    mod_lijst = len(test_list) - len(test_list) % 3\n",
    "    print(mod_lijst)\n",
    "    for eerste_tien in range(0,mod_lijst,3):\n",
    "        \"\"\"build first 10 liits\"\"\"\n",
    "#         \n",
    "        naam = test_list[eerste_tien: eerste_tien +3]\n",
    "        print(naam)   \n",
    "        \n",
    "    naam = test_list[30:32]\n",
    "    print(naam)\n",
    "else:\n",
    "    print((len(test_list) % 3))    "
   ]
  },
  {
   "cell_type": "code",
   "execution_count": null,
   "metadata": {},
   "outputs": [],
   "source": [
    "str_df_1"
   ]
  },
  {
   "cell_type": "code",
   "execution_count": 112,
   "metadata": {},
   "outputs": [],
   "source": [
    "# lijst_ = [\"AMS-0007.csv\", \"AMS-0008.csv\", \"MAL-0055.csv\"]\n",
    "\n",
    "\n",
    "\n",
    "\n",
    "def concating(naam_van_een_file, naam_lijst):\n",
    "    \"\"\"\" the first variable here is a list of three, iterating # todo build a list of threes out of the 32\n",
    "    the second is iterating through the name list\"\"\"\n",
    "    str_df_1 = f\"C:/Users/Dhr. Ten Hoonte/PycharmProjects/OaC_files_program/Seal&Trace batches/{naam_van_een_file[0]}\"\n",
    "    str_df_2 = f\"C:/Users/Dhr. Ten Hoonte/PycharmProjects/OaC_files_program/Seal&Trace batches/{naam_van_een_file[1]}\"\n",
    "    str_df_3 = f\"C:/Users/Dhr. Ten Hoonte/PycharmProjects/OaC_files_program/Seal&Trace batches/{naam_van_een_file[2]}\"\n",
    "    str_df_4 = f\"C:/Users/Dhr. Ten Hoonte/PycharmProjects/OaC_files_program/src/pdf.csv\"\n",
    "\n",
    "    # lijst_ = [\"AMS-0007.csv\",\"AMS-0008.csv\",\"MAL-0055.csv\"]\n",
    "    # lijst_ = {'f': 'HIA-0113.csv', 'g': 'OMN-0118.csv', 'h': 'OMN-0119.csv'}\n",
    "    data_in = Path(\"C:/Users/Dhr. Ten Hoonte/PycharmProjects/OaC_files_program/Seal&Trace batches/\")\n",
    "    df1 = pd.read_csv(str_df_1)\n",
    "    df2 = pd.read_csv(str_df_2)\n",
    "    df3 = pd.read_csv(str_df_3)\n",
    "    df4 = pd.read_csv(str_df_4)\n",
    "\n",
    "    df = pd.concat([df1, df2, df3, df4], axis=1)\n",
    "    # writing to csv\n",
    "    df.to_csv(\"temp.csv\")  # is temp file remove after?\n",
    "\n",
    "    with open(\"temp.csv\", \"r\") as f:\n",
    "        read_line = f.readlines()\n",
    "\n",
    "    with open(naam_lijst, \"w\", encoding=\"utf-8\") as target:\n",
    "        target.writelines(\"index, BC1, TC1, KC1, VVV1, WWW1,BC2,TC2,KC2,VVV2,WWW2,BC3,TC3,KC3,VVV3,WWW3,pdf\")\n",
    "        # headers\n",
    "        target.writelines(read_line[1:2])  # eerste regel\n",
    "        \n",
    "        target.writelines(\"*,*,*,*,*,*,*,*,*,*,*,*,*,*,*,*,stans.pdf\\n\" * 59)  # inloop\n",
    "        a = 1\n",
    "        b = 1001\n",
    "        for _ in range(8):\n",
    "            target.writelines(\"*,*,*,*,*,*,*,*,*,*,*,*,*,*,*,*,stans.pdf\\n\" * 6)\n",
    "            target.writelines(read_line[a:b])\n",
    "\n",
    "            a += 1000\n",
    "            b += 1000\n",
    "\n",
    "        target.writelines(\"*,*,*,*,*,*,*,*,*,*,*,*,*,*,*,*,stans.pdf\\n\" * 59)  # uitloop\n",
    "        target.writelines(read_line[8000:8001])  # laatste regel\n",
    "    os.remove(\"temp.csv\")  # remove temp file\n",
    "    print(\"done\")\n",
    "    \n",
    "    "
   ]
  },
  {
   "cell_type": "code",
   "execution_count": 109,
   "metadata": {},
   "outputs": [
    {
     "name": "stdout",
     "output_type": "stream",
     "text": [
      "done\n"
     ]
    }
   ],
   "source": [
    "concating(lijst_, \"2019_Vdp_1.csv\")"
   ]
  },
  {
   "cell_type": "code",
   "execution_count": 113,
   "metadata": {},
   "outputs": [
    {
     "name": "stdout",
     "output_type": "stream",
     "text": [
      "30\n",
      "0\n",
      "done\n",
      "2019_VDP_1.csv\n",
      "['AMS-0007.csv', 'AMS-0008.csv', 'MAL-0055.csv']\n",
      "3\n",
      "done\n",
      "2019_VDP_2.csv\n",
      "['MAL-0056.csv', 'MAL-0057.csv', 'MAL-0058.csv']\n",
      "6\n",
      "done\n",
      "2019_VDP_3.csv\n",
      "['MAL-0059.csv', 'MAL-0060.csv', 'MAL-0061.csv']\n",
      "9\n",
      "done\n",
      "2019_VDP_4.csv\n",
      "['MAL-0062.csv', 'MAL-0063.csv', 'MAL-0065.csv']\n",
      "12\n",
      "done\n",
      "2019_VDP_5.csv\n",
      "['MAL-0066.csv', 'MAL-0067.csv', 'MAL-0068.csv']\n",
      "15\n",
      "done\n",
      "2019_VDP_6.csv\n",
      "['MAL-0069.csv', 'MAL-0070.csv', 'MAL-0071.csv']\n",
      "18\n",
      "done\n",
      "2019_VDP_7.csv\n",
      "['MAL-0072.csv', 'MAL-0073.csv', 'MAL-0075.csv']\n",
      "21\n",
      "done\n",
      "2019_VDP_8.csv\n",
      "['MAL-0076.csv', 'MAL-0077.csv', 'MAL-0078.csv']\n",
      "24\n",
      "done\n",
      "2019_VDP_9.csv\n",
      "['MAL-0079.csv', 'MAL-0080.csv', 'MAL-0081.csv']\n",
      "27\n",
      "done\n",
      "2019_VDP_10.csv\n",
      "['MAL-0082.csv', 'MAL-0083.csv', 'MAL-0084.csv']\n"
     ]
    }
   ],
   "source": [
    "if len(test_list) % 3 == 2:\n",
    "    \"\"\"just logic to get it to only use the files that have concatenated three in them\"\"\"\n",
    "    mod_lijst = len(test_list) - len(test_list) % 3\n",
    "    print(mod_lijst)\n",
    "    count = 1\n",
    "    for eerste_tien in range(0,mod_lijst,3):\n",
    "        \"\"\"build first 10 _ 3 lists\"\"\"\n",
    "        c_naam_csv = f\"2019_VDP_{count}\"\n",
    "        \n",
    "        c_naam_csv = test_list[eerste_tien: eerste_tien +3]\n",
    "        print(eerste_tien)\n",
    "        fnaam_csv = f\"2019_VDP_{count}.csv\"\n",
    "        \n",
    "        concating(c_naam_csv,fnaam_csv)\n",
    "        count += 1\n",
    "        print(fnaam_csv)\n",
    "        print(c_naam_csv)\n",
    "#     naam = test_list[30:32]\n",
    "#     print(naam)\n",
    "else:\n",
    "    print((len(test_list) % 3))"
   ]
  }
 ],
 "metadata": {
  "kernelspec": {
   "display_name": "Python 3",
   "language": "python",
   "name": "python3"
  },
  "language_info": {
   "codemirror_mode": {
    "name": "ipython",
    "version": 3
   },
   "file_extension": ".py",
   "mimetype": "text/x-python",
   "name": "python",
   "nbconvert_exporter": "python",
   "pygments_lexer": "ipython3",
   "version": "3.7.0"
  }
 },
 "nbformat": 4,
 "nbformat_minor": 2
}
