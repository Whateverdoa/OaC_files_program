{
 "cells": [
  {
   "cell_type": "code",
   "execution_count": null,
   "metadata": {},
   "outputs": [],
   "source": []
  },
  {
   "cell_type": "code",
   "execution_count": 40,
   "metadata": {},
   "outputs": [],
   "source": [
    "import pandas as pd\n",
    "import numpy as np"
   ]
  },
  {
   "cell_type": "code",
   "execution_count": 41,
   "metadata": {},
   "outputs": [],
   "source": [
    "df1 = pd.read_csv(\"HIA-0113.csv\")\n",
    "df2 = pd.read_csv(\"HIA-0118.csv\")\n"
   ]
  },
  {
   "cell_type": "markdown",
   "metadata": {},
   "source": [
    "# 3 files naast elkaar zetten met Concat"
   ]
  },
  {
   "cell_type": "code",
   "execution_count": 42,
   "metadata": {},
   "outputs": [],
   "source": [
    "df3 = pd.concat([df1,df2], axis=1)\n",
    "                                  "
   ]
  },
  {
   "cell_type": "code",
   "execution_count": 43,
   "metadata": {},
   "outputs": [],
   "source": [
    "df4 = pd.read_csv(\"HIA-0119.csv\")\n"
   ]
  },
  {
   "cell_type": "code",
   "execution_count": 44,
   "metadata": {},
   "outputs": [],
   "source": [
    "dff = pd.concat([df3,df4], axis=1)"
   ]
  },
  {
   "cell_type": "code",
   "execution_count": 46,
   "metadata": {},
   "outputs": [],
   "source": [
    "dff.to_csv(\"target_3_csv.csv\")\n",
    "\n",
    "# dff.to_excel(\"target.xlxs\") get excell writer\n"
   ]
  },
  {
   "cell_type": "code",
   "execution_count": 47,
   "metadata": {},
   "outputs": [
    {
     "name": "stdout",
     "output_type": "stream",
     "text": [
      ",batch code,trace code,key code,url1,url2,batch code,trace code,key code,url1,url2,batch code,trace code,key code,url1,url2\n",
      "0,HIA0113,6PULRJ92C,JAKHW99EF,https://seal-trace.com/?t=6PULRJ92C,https://seal-trace.com/?t=6PULRJ92C&k=JAKHW99EF,HIA0118,LR37CPFY9,UUSHEVYSM,https://seal-trace.com/?t=LR37CPFY9,https://seal-trace.com/?t=LR37CPFY9&k=UUSHEVYSM,HIA0119,PELXVDYWX,W3X5U6AWS,https://seal-trace.com/?t=PELXVDYWX,https://seal-trace.com/?t=PELXVDYWX&k=W3X5U6AWS\n",
      "1,HIA0113,6AUU9E9MC,2R7RR3JKM,https://seal-trace.com/?t=6AUU9E9MC,https://seal-trace.com/?t=6AUU9E9MC&k=2R7RR3JKM,HIA0118,C67NNSK9Y,XPUCXPJZC,https://seal-trace.com/?t=C67NNSK9Y,https://seal-trace.com/?t=C67NNSK9Y&k=XPUCXPJZC,HIA0119,Y7CS5KRSU,YVWFYNYK2,https://seal-trace.com/?t=Y7CS5KRSU,https://seal-trace.com/?t=Y7CS5KRSU&k=YVWFYNYK2\n",
      "2,HIA0113,HDJLF3U52,MT5PF3SSZ,https://seal-trace.com/?t=HDJLF3U52,https://seal-trace.com/?t=HDJLF3U52&k=MT5PF3SSZ,HIA0118,JRYX5N9UF,MA6MMYCAU,https://seal-trace.com/?t=JRYX5N9UF,https://seal-trace.com/?t=JRYX5N9UF&k=MA6MMYCAU,HIA0119,E3CJEXA6P,JYNW3WK7N,https://seal-trace.com/?t=E3CJEXA6P,https://seal-trace.com/?t=E3CJEXA6P&k=JYNW3WK7N\n",
      "3,HIA0113,SWTHHL4S7,CESYZAVFM,https://seal-trace.com/?t=SWTHHL4S7,https://seal-trace.com/?t=SWTHHL4S7&k=CESYZAVFM,HIA0118,VWUH72RNT,J3SMYJLV6,https://seal-trace.com/?t=VWUH72RNT,https://seal-trace.com/?t=VWUH72RNT&k=J3SMYJLV6,HIA0119,LPCPSAS55,ALARK4AH6,https://seal-trace.com/?t=LPCPSAS55,https://seal-trace.com/?t=LPCPSAS55&k=ALARK4AH6\n",
      "4,HIA0113,HXHXHA662,WMDS9H7ZE,https://seal-trace.com/?t=HXHXHA662,https://seal-trace.com/?t=HXHXHA662&k=WMDS9H7ZE,HIA0118,A3C9ZXCEC,PY32CLTYT,https://seal-trace.com/?t=A3C9ZXCEC,https://seal-trace.com/?t=A3C9ZXCEC&k=PY32CLTYT,HIA0119,RMNK24LJJ,CU4PZCNSH,https://seal-trace.com/?t=RMNK24LJJ,https://seal-trace.com/?t=RMNK24LJJ&k=CU4PZCNSH\n",
      "5,HIA0113,3HUJ3PJV5,VTS5FSXTJ,https://seal-trace.com/?t=3HUJ3PJV5,https://seal-trace.com/?t=3HUJ3PJV5&k=VTS5FSXTJ,HIA0118,2Z6VAMRJV,HPPRZZV6N,https://seal-trace.com/?t=2Z6VAMRJV,https://seal-trace.com/?t=2Z6VAMRJV&k=HPPRZZV6N,HIA0119,P36S332MA,YKLWNZHL2,https://seal-trace.com/?t=P36S332MA,https://seal-trace.com/?t=P36S332MA&k=YKLWNZHL2\n",
      "6,HIA0113,HCC9PLH73,7KDVZ4YL4,https://seal-trace.com/?t=HCC9PLH73,https://seal-trace.com/?t=HCC9PLH73&k=7KDVZ4YL4,HIA0118,WERWVHVUT,4PP324X5V,https://seal-trace.com/?t=WERWVHVUT,https://seal-trace.com/?t=WERWVHVUT&k=4PP324X5V,HIA0119,NZ2YDSJYM,5FX934F72,https://seal-trace.com/?t=NZ2YDSJYM,https://seal-trace.com/?t=NZ2YDSJYM&k=5FX934F72\n",
      "7,HIA0113,UJRVKY5W3,FXJCZ55HL,https://seal-trace.com/?t=UJRVKY5W3,https://seal-trace.com/?t=UJRVKY5W3&k=FXJCZ55HL,HIA0118,Z6XZADKYC,KHSY4WHLX,https://seal-trace.com/?t=Z6XZADKYC,https://seal-trace.com/?t=Z6XZADKYC&k=KHSY4WHLX,HIA0119,MM4T74ZZW,74W25VMJT,https://seal-trace.com/?t=MM4T74ZZW,https://seal-trace.com/?t=MM4T74ZZW&k=74W25VMJT\n",
      "8,HIA0113,2UHSY5KZL,DDPUKJVPC,https://seal-trace.com/?t=2UHSY5KZL,https://seal-trace.com/?t=2UHSY5KZL&k=DDPUKJVPC,HIA0118,KUTM6VJHN,PTZ4PVLJF,https://seal-trace.com/?t=KUTM6VJHN,https://seal-trace.com/?t=KUTM6VJHN&k=PTZ4PVLJF,HIA0119,LYHW4A23V,XRDDPXUK2,https://seal-trace.com/?t=LYHW4A23V,https://seal-trace.com/?t=LYHW4A23V&k=XRDDPXUK2\n",
      "1,2,3,4,5\n",
      "1,2,3,4,5\n",
      "1,2,3,4,5\n",
      "1,2,3,4,5\n",
      "1,2,3,4,5\n",
      "1,2,3,4,5\n",
      "1,2,3,4,5\n",
      "9,HIA0113,VMDFVRAU6,VL4JDEU4D,https://seal-trace.com/?t=VMDFVRAU6,https://seal-trace.com/?t=VMDFVRAU6&k=VL4JDEU4D,HIA0118,RU5UKAHYN,CM29EED2U,https://seal-trace.com/?t=RU5UKAHYN,https://seal-trace.com/?t=RU5UKAHYN&k=CM29EED2U,HIA0119,2JJJHJF4V,YYDKZ9T23,https://seal-trace.com/?t=2JJJHJF4V,https://seal-trace.com/?t=2JJJHJF4V&k=YYDKZ9T23\n",
      "10,HIA0113,EKMWHSFFR,PL5VM7724,https://seal-trace.com/?t=EKMWHSFFR,https://seal-trace.com/?t=EKMWHSFFR&k=PL5VM7724,HIA0118,C935935UZ,F7HVA3F2Z,https://seal-trace.com/?t=C935935UZ,https://seal-trace.com/?t=C935935UZ&k=F7HVA3F2Z,HIA0119,6RJ7NSV5D,RFH94LJJK,https://seal-trace.com/?t=6RJ7NSV5D,https://seal-trace.com/?t=6RJ7NSV5D&k=RFH94LJJK\n",
      "11,HIA0113,23RE6K9CV,S4XXUL9XC,https://seal-trace.com/?t=23RE6K9CV,https://seal-trace.com/?t=23RE6K9CV&k=S4XXUL9XC,HIA0118,AFLHWFJ7Z,WJ7J4SEMS,https://seal-trace.com/?t=AFLHWFJ7Z,https://seal-trace.com/?t=AFLHWFJ7Z&k=WJ7J4SEMS,HIA0119,ZC947RJLT,5YWLHVHYC,https://seal-trace.com/?t=ZC947RJLT,https://seal-trace.com/?t=ZC947RJLT&k=5YWLHVHYC\n",
      "12,HIA0113,A2HW4HT5F,C4NHK5233,https://seal-trace.com/?t=A2HW4HT5F,https://seal-trace.com/?t=A2HW4HT5F&k=C4NHK5233,HIA0118,FFKH9FAJT,9M3JDZ64D,https://seal-trace.com/?t=FFKH9FAJT,https://seal-trace.com/?t=FFKH9FAJT&k=9M3JDZ64D,HIA0119,ZA4FRRSCL,6HRRAHKN2,https://seal-trace.com/?t=ZA4FRRSCL,https://seal-trace.com/?t=ZA4FRRSCL&k=6HRRAHKN2\n",
      "13,HIA0113,USE5D22UY,HSMCENZ9M,https://seal-trace.com/?t=USE5D22UY,https://seal-trace.com/?t=USE5D22UY&k=HSMCENZ9M,HIA0118,DLA2EAC72,ZLNKW3F4S,https://seal-trace.com/?t=DLA2EAC72,https://seal-trace.com/?t=DLA2EAC72&k=ZLNKW3F4S,HIA0119,JJ2MKD7FV,WDDWFVZC2,https://seal-trace.com/?t=JJ2MKD7FV,https://seal-trace.com/?t=JJ2MKD7FV&k=WDDWFVZC2\n",
      "14,HIA0113,P2KFTWSVF,JYVS5M6PJ,https://seal-trace.com/?t=P2KFTWSVF,https://seal-trace.com/?t=P2KFTWSVF&k=JYVS5M6PJ,HIA0118,Y39XAW7SJ,6TVLVK337,https://seal-trace.com/?t=Y39XAW7SJ,https://seal-trace.com/?t=Y39XAW7SJ&k=6TVLVK337,HIA0119,AY37TSFSV,L4M54XZU9,https://seal-trace.com/?t=AY37TSFSV,https://seal-trace.com/?t=AY37TSFSV&k=L4M54XZU9\n",
      "15,HIA0113,RDP3ZZX7M,USHMZT4AL,https://seal-trace.com/?t=RDP3ZZX7M,https://seal-trace.com/?t=RDP3ZZX7M&k=USHMZT4AL,HIA0118,YMSZVZ95S,4UFR565X7,https://seal-trace.com/?t=YMSZVZ95S,https://seal-trace.com/?t=YMSZVZ95S&k=4UFR565X7,HIA0119,ZJ9S5U329,V2PNRXYEK,https://seal-trace.com/?t=ZJ9S5U329,https://seal-trace.com/?t=ZJ9S5U329&k=V2PNRXYEK\n",
      "16,HIA0113,TWA6PRDF4,PP972ZL2X,https://seal-trace.com/?t=TWA6PRDF4,https://seal-trace.com/?t=TWA6PRDF4&k=PP972ZL2X,HIA0118,4ECXUS2VM,W63RAE7XA,https://seal-trace.com/?t=4ECXUS2VM,https://seal-trace.com/?t=4ECXUS2VM&k=W63RAE7XA,HIA0119,L5KJN26WM,RY3KSVDLL,https://seal-trace.com/?t=L5KJN26WM,https://seal-trace.com/?t=L5KJN26WM&k=RY3KSVDLL\n",
      "17,HIA0113,VNLD9L6PZ,7MXCWT447,https://seal-trace.com/?t=VNLD9L6PZ,https://seal-trace.com/?t=VNLD9L6PZ&k=7MXCWT447,HIA0118,RDHTAZSNX,TLV9LPFTV,https://seal-trace.com/?t=RDHTAZSNX,https://seal-trace.com/?t=RDHTAZSNX&k=TLV9LPFTV,HIA0119,543LZXS32,ZLV2H5SR3,https://seal-trace.com/?t=543LZXS32,https://seal-trace.com/?t=543LZXS32&k=ZLV2H5SR3\n",
      "18,HIA0113,UUMKWDSNV,L43UPNMLS,https://seal-trace.com/?t=UUMKWDSNV,https://seal-trace.com/?t=UUMKWDSNV&k=L43UPNMLS,HIA0118,FJ4LZRRRW,43EKWFP3S,https://seal-trace.com/?t=FJ4LZRRRW,https://seal-trace.com/?t=FJ4LZRRRW&k=43EKWFP3S,HIA0119,XZNLNMHY4,TMXLL5U6D,https://seal-trace.com/?t=XZNLNMHY4,https://seal-trace.com/?t=XZNLNMHY4&k=TMXLL5U6D\n"
     ]
    }
   ],
   "source": [
    "with open(\"target_3_csv.csv\", newline='') as f:\n",
    "    read_line = f.readlines()\n",
    "    blok_1 = read_line[0:10] # voorbeeld van 10 voor het overzicht\n",
    "    blok_2 = read_line[10:20]\n",
    "    blok_3 = read_line[20:30]\n",
    "    \n",
    "    with open(\"target_voor_drie_files.csv\", 'w', newline='') as df:\n",
    "        for line in blok_1:\n",
    "            a = print(line, end='')\n",
    "            a = str(a)\n",
    "            \n",
    "        # print(\"1,2,3,4,5,stans.pdf\\n\"*7,end = '')\n",
    "        print(\"1,2,3,4,5\\n\"*7,end = '')\n",
    "\n",
    "        for line in blok_2:\n",
    "            print(line, end ='')"
   ]
  }
 ],
 "metadata": {
  "kernelspec": {
   "display_name": "Python 3",
   "language": "python",
   "name": "python3"
  },
  "language_info": {
   "codemirror_mode": {
    "name": "ipython",
    "version": 3
   },
   "file_extension": ".py",
   "mimetype": "text/x-python",
   "name": "python",
   "nbconvert_exporter": "python",
   "pygments_lexer": "ipython3",
   "version": "3.7.0"
  }
 },
 "nbformat": 4,
 "nbformat_minor": 2
}
